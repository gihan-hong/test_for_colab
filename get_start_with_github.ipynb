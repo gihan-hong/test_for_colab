{
  "nbformat": 4,
  "nbformat_minor": 0,
  "metadata": {
    "colab": {
      "name": "Untitled2.ipynb",
      "provenance": [],
      "collapsed_sections": [],
      "authorship_tag": "ABX9TyOtKp9IfJpnHRM+dQ/qd4Ly",
      "include_colab_link": true
    },
    "kernelspec": {
      "name": "python3",
      "display_name": "Python 3"
    }
  },
  "cells": [
    {
      "cell_type": "markdown",
      "metadata": {
        "id": "view-in-github",
        "colab_type": "text"
      },
      "source": [
        "<a href=\"https://colab.research.google.com/github/gihan-hong/test_for_colab/blob/main/get_start_with_github.ipynb\" target=\"_parent\"><img src=\"https://colab.research.google.com/assets/colab-badge.svg\" alt=\"Open In Colab\"/></a>"
      ]
    },
    {
      "cell_type": "code",
      "metadata": {
        "id": "ZajyEaqOkSZe"
      },
      "source": [
        "!git clone https://github.com/gihan-hong/test_for_colab.git"
      ],
      "execution_count": null,
      "outputs": []
    },
    {
      "cell_type": "code",
      "metadata": {
        "id": "PuywHJmelDRw"
      },
      "source": [
        "ls"
      ],
      "execution_count": null,
      "outputs": []
    },
    {
      "cell_type": "code",
      "metadata": {
        "id": "9LXC_D1alGKM"
      },
      "source": [
        "cd test_for_colab/"
      ],
      "execution_count": null,
      "outputs": []
    },
    {
      "cell_type": "code",
      "metadata": {
        "id": "WvYqriEhlcJt"
      },
      "source": [
        "ls"
      ],
      "execution_count": null,
      "outputs": []
    },
    {
      "cell_type": "code",
      "metadata": {
        "id": "Hh_ALFV7lkjG"
      },
      "source": [
        "import useful_functions as uf\r\n",
        "\r\n",
        "uf.test()"
      ],
      "execution_count": null,
      "outputs": []
    },
    {
      "cell_type": "code",
      "metadata": {
        "id": "n0hfES0OlphQ"
      },
      "source": [
        "source = [10, 20, 30, 40, 50]\r\n",
        "\r\n",
        "mean = uf.mean(source)\r\n",
        "new_source = uf.add_five(source)\r\n",
        "\r\n",
        "new_mean = uf.mean(new_source)\r\n",
        "\r\n",
        "print(\"Scores:\", source)\r\n",
        "print(\"Original Mean:\", mean, \" New Mean:\", new_mean)"
      ],
      "execution_count": null,
      "outputs": []
    },
    {
      "cell_type": "code",
      "metadata": {
        "id": "cISgjj3lnoeJ"
      },
      "source": [
        ""
      ],
      "execution_count": null,
      "outputs": []
    }
  ]
}