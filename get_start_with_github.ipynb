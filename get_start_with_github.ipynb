{
  "nbformat": 4,
  "nbformat_minor": 0,
  "metadata": {
    "colab": {
      "name": "Untitled2.ipynb",
      "provenance": [],
      "collapsed_sections": [],
      "authorship_tag": "ABX9TyOtKp9IfJpnHRM+dQ/qd4Ly",
      "include_colab_link": true
    },
    "kernelspec": {
      "name": "python3",
      "display_name": "Python 3"
    }
  },
  "cells": [
    {
      "cell_type": "markdown",
      "metadata": {
        "id": "view-in-github",
        "colab_type": "text"
      },
      "source": [
        "<a href=\"https://colab.research.google.com/github/gihan-hong/test_for_colab/blob/main/get_start_with_github.ipynb\" target=\"_parent\"><img src=\"https://colab.research.google.com/assets/colab-badge.svg\" alt=\"Open In Colab\"/></a>"
      ]
    },
    {
      "cell_type": "code",
      "metadata": {
        "colab": {
          "base_uri": "https://localhost:8080/"
        },
        "id": "ZajyEaqOkSZe",
        "outputId": "fd67aa15-3f74-4eee-aa0e-bd5245df4ca7"
      },
      "source": [
        "!git clone https://github.com/gihan-hong/test_for_colab.git"
      ],
      "execution_count": 1,
      "outputs": [
        {
          "output_type": "stream",
          "text": [
            "Cloning into 'test_for_colab'...\n",
            "remote: Enumerating objects: 45, done.\u001b[K\n",
            "remote: Counting objects: 100% (45/45), done.\u001b[K\n",
            "remote: Compressing objects: 100% (41/41), done.\u001b[K\n",
            "remote: Total 45 (delta 16), reused 0 (delta 0), pack-reused 0\u001b[K\n",
            "Unpacking objects: 100% (45/45), done.\n"
          ],
          "name": "stdout"
        }
      ]
    },
    {
      "cell_type": "code",
      "metadata": {
        "id": "PuywHJmelDRw",
        "outputId": "9362abeb-0611-4f91-ba07-c50cdba76e30",
        "colab": {
          "base_uri": "https://localhost:8080/"
        }
      },
      "source": [
        "ls"
      ],
      "execution_count": 9,
      "outputs": [
        {
          "output_type": "stream",
          "text": [
            "\u001b[0m\u001b[01;34msample_data\u001b[0m/  \u001b[01;34mtest_for_colab\u001b[0m/\n"
          ],
          "name": "stdout"
        }
      ]
    },
    {
      "cell_type": "code",
      "metadata": {
        "id": "9LXC_D1alGKM",
        "outputId": "638997ae-570b-4587-d8f6-b69987f20247",
        "colab": {
          "base_uri": "https://localhost:8080/"
        }
      },
      "source": [
        "cd test_for_colab/"
      ],
      "execution_count": 10,
      "outputs": [
        {
          "output_type": "stream",
          "text": [
            "/content/test_for_colab\n"
          ],
          "name": "stdout"
        }
      ]
    },
    {
      "cell_type": "code",
      "metadata": {
        "id": "WvYqriEhlcJt",
        "outputId": "0d1af3f6-8a91-4c5d-e46c-32d96fcb23da",
        "colab": {
          "base_uri": "https://localhost:8080/"
        }
      },
      "source": [
        "ls"
      ],
      "execution_count": 12,
      "outputs": [
        {
          "output_type": "stream",
          "text": [
            "data.csv  README.md  Untitled2.ipynb  useful_functions.py\n"
          ],
          "name": "stdout"
        }
      ]
    },
    {
      "cell_type": "code",
      "metadata": {
        "id": "Hh_ALFV7lkjG",
        "outputId": "d6eef5f2-e082-49b7-ccb2-eda68e6c9da6",
        "colab": {
          "base_uri": "https://localhost:8080/"
        }
      },
      "source": [
        "import useful_functions as uf\r\n",
        "\r\n",
        "uf.test()"
      ],
      "execution_count": 14,
      "outputs": [
        {
          "output_type": "stream",
          "text": [
            "Testing mean function\n",
            "Testing add_five function\n",
            "All tests passed!\n"
          ],
          "name": "stdout"
        }
      ]
    },
    {
      "cell_type": "code",
      "metadata": {
        "id": "n0hfES0OlphQ",
        "outputId": "55f52e56-49de-485a-8768-67561ce434f0",
        "colab": {
          "base_uri": "https://localhost:8080/"
        }
      },
      "source": [
        "source = [10, 20, 30, 40, 50]\r\n",
        "\r\n",
        "mean = uf.mean(source)\r\n",
        "new_source = uf.add_five(source)\r\n",
        "\r\n",
        "new_mean = uf.mean(new_source)\r\n",
        "\r\n",
        "print(\"Scores:\", source)\r\n",
        "print(\"Original Mean:\", mean, \" New Mean:\", new_mean)"
      ],
      "execution_count": 16,
      "outputs": [
        {
          "output_type": "stream",
          "text": [
            "Scores: [10, 20, 30, 40, 50]\n",
            "Original Mean: 30.0  New Mean: 35.0\n"
          ],
          "name": "stdout"
        }
      ]
    },
    {
      "cell_type": "code",
      "metadata": {
        "id": "cISgjj3lnoeJ"
      },
      "source": [
        ""
      ],
      "execution_count": null,
      "outputs": []
    }
  ]
}